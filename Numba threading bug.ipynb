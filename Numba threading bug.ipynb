{
 "cells": [
  {
   "cell_type": "code",
   "execution_count": 8,
   "metadata": {},
   "outputs": [],
   "source": [
    "import numba\n",
    "import numpy as np\n",
    "import pandas as pd\n",
    "from numba import cuda,njit,prange"
   ]
  },
  {
   "cell_type": "code",
   "execution_count": 9,
   "metadata": {},
   "outputs": [
    {
     "name": "stdout",
     "output_type": "stream",
     "text": [
      "Python version: ['3.6.3 |Anaconda, Inc.| (default, Oct 15 2017, 03:27:45) [MSC v.1900 64 bit (AMD64)]'] \n",
      "platform: AMD64 \n",
      "system: Windows-10-10.0.14393-SP0 \n",
      "Numba version: 0.40.0rc1\n"
     ]
    }
   ],
   "source": [
    "import os,platform,sys\n",
    "print(\"\"\"Python version: %s \n",
    "platform: %s \n",
    "system: %s \n",
    "Numba version: %s\"\"\" % \n",
    "      (sys.version.split('\\n'),platform.machine(),platform.platform(),numba.__version__))"
   ]
  },
  {
   "cell_type": "code",
   "execution_count": 3,
   "metadata": {
    "collapsed": true
   },
   "outputs": [],
   "source": [
    "@njit(fastmath=True)\n",
    "def emptyListOfInts():\n",
    "    return [i for i in range(0)]\n",
    "@njit(fastmath=True)\n",
    "def BinByUniqueValues(array,l,r,m,mask):        \n",
    "    groupedIndices=[emptyListOfInts() for k in range(m)]\n",
    "    if len(mask)>0:\n",
    "        i=l\n",
    "        while i<r:        \n",
    "            ind=mask[i]\n",
    "            groupedIndices[array[ind]].append(ind)\n",
    "            i+=1\n",
    "    else:\n",
    "        i=l\n",
    "        while i<r:\n",
    "            groupedIndices[array[i]].append(i)\n",
    "            i+=1\n",
    "    return groupedIndices\n",
    "@njit(fastmath=True)\n",
    "def counting_argsort_list(array,maxval,mask=np.array([],np.int32)):        \n",
    "    m=maxval+1    \n",
    "    \n",
    "    #Allocate output array\n",
    "    if len(mask)>0:\n",
    "        arrayLen=len(mask)\n",
    "    else:\n",
    "        arrayLen=len(array)        \n",
    "    argsorted=np.empty(arrayLen,np.int32)    \n",
    "    \n",
    "    #Group indices of same values\n",
    "    groupedIndices=BinByUniqueValues(array,0,arrayLen,m,mask)\n",
    "    \n",
    "    position = 0\n",
    "    for k in range(m):\n",
    "        if len(groupedIndices[k])>0:\n",
    "            for index in groupedIndices[k]:\n",
    "                argsorted[position] = index\n",
    "                position+= 1            \n",
    "    return argsorted\n",
    "@njit(fastmath=True,parallel=True)\n",
    "def counting_argsort_list_threaded(array,maxval,mask=np.array([],np.int32)):        \n",
    "    m=maxval+1    \n",
    "    \n",
    "    #Allocate output array\n",
    "    if len(mask)>0:\n",
    "        arrayLen=len(mask)\n",
    "    else:\n",
    "        arrayLen=len(array)        \n",
    "    argsorted=np.empty(arrayLen,np.int32)    \n",
    "    \n",
    "    #Group indices of same values\n",
    "    groups=[]\n",
    "    effectiveSize=int(m*3)        \n",
    "    if arrayLen<=effectiveSize: \n",
    "        groups.append(BinByUniqueValues(array,0,arrayLen,m,mask))\n",
    "    else:\n",
    "        nThreads=min(max(arrayLen//effectiveSize,1),8)            \n",
    "        effectiveSize=arrayLen//nThreads\n",
    "        #print(\"nThreads=\",nThreads)\n",
    "        for k in prange(nThreads):\n",
    "            lBound=effectiveSize*k;rBound=effectiveSize*(k+1)\n",
    "            if k==nThreads-1:\n",
    "                rBound=arrayLen\n",
    "            groups.append(BinByUniqueValues(array,lBound,rBound,m,mask))\n",
    "    position = 0\n",
    "    for k in range(m):\n",
    "        for groupedIndices in groups:\n",
    "            if len(groupedIndices)>0:\n",
    "                if len(groupedIndices[k])>0:\n",
    "                    for index in groupedIndices[k]:\n",
    "                        argsorted[position] = index\n",
    "                        position+= 1   \n",
    "    return argsorted"
   ]
  },
  {
   "cell_type": "code",
   "execution_count": 4,
   "metadata": {},
   "outputs": [
    {
     "name": "stdout",
     "output_type": "stream",
     "text": [
      "True\n",
      "Parallel for-loop #0 is produced from pattern '('prange', 'user')' at <ipython-input-3-84432365d5c1> (60)\n",
      "After fusion, function counting_argsort_list_threaded has 1 parallel for-loop(s) #{0}.\n",
      "True\n"
     ]
    }
   ],
   "source": [
    "data=np.array([1, 4, 7, 2, 1, 3, 2, 1, 4, 7, 2, 1, 3, 2, 3, 2, 1]*5)\n",
    "\n",
    "print((data[np.argsort(data)]==data[counting_argsort_list(data,7)]).all())\n",
    "print((data[np.argsort(data)]==data[counting_argsort_list_threaded(data,7)]).all())"
   ]
  },
  {
   "cell_type": "code",
   "execution_count": 5,
   "metadata": {},
   "outputs": [],
   "source": [
    "data=np.random.randint(1,100,50000)"
   ]
  },
  {
   "cell_type": "code",
   "execution_count": 6,
   "metadata": {},
   "outputs": [
    {
     "name": "stdout",
     "output_type": "stream",
     "text": [
      "2.32 ms ± 20.9 µs per loop (mean ± std. dev. of 7 runs, 100 loops each)\n"
     ]
    }
   ],
   "source": [
    "%timeit np.argsort(data)"
   ]
  },
  {
   "cell_type": "code",
   "execution_count": 7,
   "metadata": {},
   "outputs": [
    {
     "name": "stdout",
     "output_type": "stream",
     "text": [
      "1.49 ms ± 3.07 µs per loop (mean ± std. dev. of 7 runs, 1000 loops each)\n"
     ]
    }
   ],
   "source": [
    "%timeit counting_argsort_list(data,100)"
   ]
  },
  {
   "cell_type": "code",
   "execution_count": null,
   "metadata": {
    "collapsed": true
   },
   "outputs": [],
   "source": [
    "%timeit counting_argsort_list_threaded(data,100)"
   ]
  }
 ],
 "metadata": {
  "kernelspec": {
   "display_name": "Python 3",
   "language": "python",
   "name": "python3"
  },
  "language_info": {
   "codemirror_mode": {
    "name": "ipython",
    "version": 3
   },
   "file_extension": ".py",
   "mimetype": "text/x-python",
   "name": "python",
   "nbconvert_exporter": "python",
   "pygments_lexer": "ipython3",
   "version": "3.6.3"
  }
 },
 "nbformat": 4,
 "nbformat_minor": 2
}
